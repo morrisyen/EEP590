{
 "cells": [
  {
   "cell_type": "markdown",
   "metadata": {
    "collapsed": true
   },
   "source": [
    "# My First Notebook"
   ]
  },
  {
   "cell_type": "code",
   "execution_count": 6,
   "metadata": {
    "pycharm": {
     "name": "#%%\n"
    },
    "ExecuteTime": {
     "end_time": "2023-09-29T02:55:37.254268200Z",
     "start_time": "2023-09-29T02:55:17.040766Z"
    }
   },
   "outputs": [
    {
     "name": "stdout",
     "output_type": "stream",
     "text": [
      "Give me a noun: Patrick Star\n",
      "Give me a color: Pink\n",
      "Give me a city in Washington: Seattle\n",
      "Give me a noun: Krabby Patty\n",
      "Give me a time: 3\n",
      "Sponge Bob and Pink Patrick Star are best friend and Patrick Star like to eat Krabby Patty at 3AM in Seattle.\n"
     ]
    }
   ],
   "source": [
    "noun1=input()#Patrick Star\n",
    "print(\"Give me a noun:\",noun1)\n",
    "\n",
    "color=input()#Pink\n",
    "print(\"Give me a color:\",color)\n",
    "\n",
    "city=input()#Seattle\n",
    "print(\"Give me a city in Washington:\",city)\n",
    "\n",
    "noun2=input()#Krabby Patty\n",
    "print(\"Give me a noun:\",noun2)\n",
    "\n",
    "time=input()#3\n",
    "print(\"Give me a time:\",time)\n",
    "\n",
    "print(\"Sponge Bob and \"+color+\" \"+noun1+\" are best friend and \"+noun1+\" like to eat \"+noun2+\" at \"+time+\"AM\"+\" in \"+city+\".\")"
   ]
  }
 ],
 "metadata": {
  "kernelspec": {
   "display_name": "Python 3 (ipykernel)",
   "language": "python",
   "name": "python3"
  },
  "language_info": {
   "codemirror_mode": {
    "name": "ipython",
    "version": 3
   },
   "file_extension": ".py",
   "mimetype": "text/x-python",
   "name": "python",
   "nbconvert_exporter": "python",
   "pygments_lexer": "ipython3",
   "version": "3.9.7"
  }
 },
 "nbformat": 4,
 "nbformat_minor": 4
}
